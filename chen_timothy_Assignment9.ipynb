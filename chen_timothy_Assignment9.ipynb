{
 "cells": [
  {
   "cell_type": "code",
   "execution_count": 61,
   "metadata": {},
   "outputs": [],
   "source": [
    "import matplotlib.pyplot as plt\n",
    "%matplotlib inline\n",
    "import numpy as np\n",
    "import pandas as pd\n",
    "import seaborn as sns \n",
    "    \n",
    "from sklearn import metrics\n",
    "from sklearn import linear_model\n",
    "from sklearn.model_selection import train_test_split\n",
    "from sklearn.linear_model import LinearRegression\n",
    "from sklearn.tree import DecisionTreeClassifier\n",
    "from sklearn import tree\n",
    "from sklearn.metrics import accuracy_score, classification_report\n",
    "from sklearn.preprocessing import label_binarize\n",
    "from sklearn.metrics import accuracy_score\n",
    "from sklearn.metrics import precision_recall_fscore_support\n",
    "from sklearn.metrics import classification_report\n",
    "from sklearn.metrics import confusion_matrix\n",
    "from sklearn.metrics import roc_curve, auc\n",
    "from sklearn.metrics import precision_recall_curve\n",
    "\n",
    "fileURL = 'https://archive.ics.uci.edu/ml/machine-learning-databases/lenses/lenses.data'\n",
    "lens=pd.read_csv(fileURL, names=['ID', 'Age', 'Spectacle_Prescription','Astigmatic','Tear_Production_Rate','Classes'],header=None,delim_whitespace=True)\n",
    "lens = lens[['Age', 'Spectacle_Prescription','Astigmatic','Tear_Production_Rate','Classes']]"
   ]
  },
  {
   "cell_type": "code",
   "execution_count": 62,
   "metadata": {},
   "outputs": [],
   "source": [
    "#from the dataset:\n",
    "# There are 3 Classes:\n",
    "#     1 : the patient should be fitted with hard contact lenses,\n",
    "#     2 : the patient should be fitted with soft contact lenses,\n",
    "#     3 : the patient should not be fitted with contact lenses.\n",
    "\n",
    "#convert class 1 and 2 -> 1 (should be fitted with contact lenses), convert class 3 -> 0 (should not be fitted)"
   ]
  },
  {
   "cell_type": "code",
   "execution_count": 63,
   "metadata": {},
   "outputs": [],
   "source": [
    "lens['Classes'].replace({1:1,2:1,3:0},inplace=True)"
   ]
  },
  {
   "cell_type": "code",
   "execution_count": 64,
   "metadata": {},
   "outputs": [],
   "source": [
    "train, test = train_test_split(lens, shuffle=True, test_size=0.2)"
   ]
  },
  {
   "cell_type": "code",
   "execution_count": 65,
   "metadata": {},
   "outputs": [
    {
     "data": {
      "text/html": [
       "<div>\n",
       "<style scoped>\n",
       "    .dataframe tbody tr th:only-of-type {\n",
       "        vertical-align: middle;\n",
       "    }\n",
       "\n",
       "    .dataframe tbody tr th {\n",
       "        vertical-align: top;\n",
       "    }\n",
       "\n",
       "    .dataframe thead th {\n",
       "        text-align: right;\n",
       "    }\n",
       "</style>\n",
       "<table border=\"1\" class=\"dataframe\">\n",
       "  <thead>\n",
       "    <tr style=\"text-align: right;\">\n",
       "      <th></th>\n",
       "      <th>Age</th>\n",
       "      <th>Spectacle_Prescription</th>\n",
       "      <th>Astigmatic</th>\n",
       "      <th>Tear_Production_Rate</th>\n",
       "      <th>Classes</th>\n",
       "    </tr>\n",
       "  </thead>\n",
       "  <tbody>\n",
       "    <tr>\n",
       "      <th>0</th>\n",
       "      <td>1</td>\n",
       "      <td>1</td>\n",
       "      <td>1</td>\n",
       "      <td>1</td>\n",
       "      <td>0</td>\n",
       "    </tr>\n",
       "    <tr>\n",
       "      <th>1</th>\n",
       "      <td>1</td>\n",
       "      <td>1</td>\n",
       "      <td>1</td>\n",
       "      <td>2</td>\n",
       "      <td>1</td>\n",
       "    </tr>\n",
       "    <tr>\n",
       "      <th>2</th>\n",
       "      <td>1</td>\n",
       "      <td>1</td>\n",
       "      <td>2</td>\n",
       "      <td>1</td>\n",
       "      <td>0</td>\n",
       "    </tr>\n",
       "    <tr>\n",
       "      <th>3</th>\n",
       "      <td>1</td>\n",
       "      <td>1</td>\n",
       "      <td>2</td>\n",
       "      <td>2</td>\n",
       "      <td>1</td>\n",
       "    </tr>\n",
       "    <tr>\n",
       "      <th>4</th>\n",
       "      <td>1</td>\n",
       "      <td>2</td>\n",
       "      <td>1</td>\n",
       "      <td>1</td>\n",
       "      <td>0</td>\n",
       "    </tr>\n",
       "  </tbody>\n",
       "</table>\n",
       "</div>"
      ],
      "text/plain": [
       "   Age  Spectacle_Prescription  Astigmatic  Tear_Production_Rate  Classes\n",
       "0    1                       1           1                     1        0\n",
       "1    1                       1           1                     2        1\n",
       "2    1                       1           2                     1        0\n",
       "3    1                       1           2                     2        1\n",
       "4    1                       2           1                     1        0"
      ]
     },
     "execution_count": 65,
     "metadata": {},
     "output_type": "execute_result"
    }
   ],
   "source": [
    "lens[:5]"
   ]
  },
  {
   "cell_type": "code",
   "execution_count": 66,
   "metadata": {},
   "outputs": [],
   "source": [
    "dtc = tree.DecisionTreeClassifier(random_state=999)\n",
    "train_features = train[['Age', 'Spectacle_Prescription','Astigmatic','Tear_Production_Rate']]\n",
    "train_target = train[['Classes']]\n",
    "test_features = test[['Age', 'Spectacle_Prescription','Astigmatic','Tear_Production_Rate']]\n",
    "test_target = test[['Classes']]\n",
    "dtc = dtc.fit(train_features, train_target)"
   ]
  },
  {
   "cell_type": "code",
   "execution_count": 67,
   "metadata": {},
   "outputs": [
    {
     "data": {
      "text/plain": [
       "array([1, 0, 0, 0, 1], dtype=int64)"
      ]
     },
     "execution_count": 67,
     "metadata": {},
     "output_type": "execute_result"
    }
   ],
   "source": [
    "y_pred = dtc.predict(test_features)\n",
    "y_pred = np.array(y_pred)\n",
    "y_pred"
   ]
  },
  {
   "cell_type": "markdown",
   "metadata": {},
   "source": [
    "1. The accuracy of your model on the test data\n"
   ]
  },
  {
   "cell_type": "code",
   "execution_count": 68,
   "metadata": {},
   "outputs": [
    {
     "data": {
      "text/plain": [
       "0.8"
      ]
     },
     "execution_count": 68,
     "metadata": {},
     "output_type": "execute_result"
    }
   ],
   "source": [
    "accuracy_score(test_target, y_pred)"
   ]
  },
  {
   "cell_type": "code",
   "execution_count": 69,
   "metadata": {},
   "outputs": [],
   "source": [
    "# The model predicts that 60% of the testing set correctly. The testing set contains 5 subjects, so 5 * 0.6 = 3 subjects\n",
    "# predicted correctly"
   ]
  },
  {
   "cell_type": "markdown",
   "metadata": {},
   "source": [
    "2. The precision and recall values\n"
   ]
  },
  {
   "cell_type": "code",
   "execution_count": 70,
   "metadata": {},
   "outputs": [
    {
     "data": {
      "text/plain": [
       "(1.0, 0.6666666666666666, 0.8, None)"
      ]
     },
     "execution_count": 70,
     "metadata": {},
     "output_type": "execute_result"
    }
   ],
   "source": [
    "precision_recall_fscore_support(test_target, y_pred, average = 'binary')"
   ]
  },
  {
   "cell_type": "code",
   "execution_count": 71,
   "metadata": {},
   "outputs": [],
   "source": [
    "# Precision is defined as the number of true positives divided by the number of true positives\n",
    "# plus the number of false positives. Recall on the other hand expresses the ability to find all relevant instances in a dataset.\n",
    "# The precision score is 0.3333, essentially meaning that the classifier returned a lot of false positives. The recall score is \n",
    "# 1.0, essentially meaning that all relevant pieces of information were retrieved by the model."
   ]
  },
  {
   "cell_type": "markdown",
   "metadata": {},
   "source": [
    "3. A classification report (scikit-learn has a function that can create this for you)\n"
   ]
  },
  {
   "cell_type": "code",
   "execution_count": 72,
   "metadata": {},
   "outputs": [
    {
     "name": "stdout",
     "output_type": "stream",
     "text": [
      "              precision    recall  f1-score   support\n",
      "\n",
      " 0 - no lens       0.67      1.00      0.80         2\n",
      "    1 - lens       1.00      0.67      0.80         3\n",
      "\n",
      "    accuracy                           0.80         5\n",
      "   macro avg       0.83      0.83      0.80         5\n",
      "weighted avg       0.87      0.80      0.80         5\n",
      "\n"
     ]
    }
   ],
   "source": [
    "target_names = ['0 - no lens', '1 - lens']\n",
    "print(classification_report(test_target, y_pred, target_names=target_names))"
   ]
  },
  {
   "cell_type": "code",
   "execution_count": 73,
   "metadata": {},
   "outputs": [],
   "source": [
    "# The classification report gives key metrics about a classification problem. It gives the precision, recall, f1-score, and\n",
    "# support for each class you're trying to find. The recall means \"how many of this class did you find over the whole number\n",
    "# of element of this class\". The precision means \"how many are correctly classified among that class\". The f1-score is the mean\n",
    "# between the precision and recall. The support is the number of occurrence of the given class in your dataset."
   ]
  },
  {
   "cell_type": "markdown",
   "metadata": {},
   "source": [
    "4. The confusion matrix for this experiment\n"
   ]
  },
  {
   "cell_type": "code",
   "execution_count": 74,
   "metadata": {},
   "outputs": [
    {
     "data": {
      "text/plain": [
       "(2, 2, 0, 1)"
      ]
     },
     "execution_count": 74,
     "metadata": {},
     "output_type": "execute_result"
    }
   ],
   "source": [
    "cm = confusion_matrix(test_target, y_pred)\n",
    "# TP = true positive, TN = true negative, FP = false positive, FN = false negative\n",
    "TP = cm[1, 1]\n",
    "TN = cm[0, 0]\n",
    "FP = cm[0, 1]\n",
    "FN = cm[1, 0]\n",
    "TP,TN,FP,FN"
   ]
  },
  {
   "cell_type": "code",
   "execution_count": 75,
   "metadata": {},
   "outputs": [],
   "source": [
    "# The confusion matrix predicts that there is 1 true positive, and 2 true negatives. It's hard to say with such a small sample\n",
    "# size whether this is balanced or not, considering 1 is already half of 2...while simultaneously recognizing that this sample\n",
    "# only goes up by increments of 1 at the very least."
   ]
  },
  {
   "cell_type": "markdown",
   "metadata": {},
   "source": [
    "5. An ROC curve\n"
   ]
  },
  {
   "cell_type": "code",
   "execution_count": 76,
   "metadata": {},
   "outputs": [
    {
     "data": {
      "text/plain": [
       "array([1., 0., 0., 0., 1.])"
      ]
     },
     "execution_count": 76,
     "metadata": {},
     "output_type": "execute_result"
    }
   ],
   "source": [
    "# generate y_pred in decimal form\n",
    "y_pred_dec = dtc.predict_proba(test_features)\n",
    "y_pred_dec1 = y_pred_dec[:,1]\n",
    "y_pred_dec1"
   ]
  },
  {
   "cell_type": "code",
   "execution_count": 77,
   "metadata": {},
   "outputs": [
    {
     "name": "stdout",
     "output_type": "stream",
     "text": [
      "[0. 0. 1.]\n",
      "[0.         0.66666667 1.        ]\n"
     ]
    },
    {
     "data": {
      "text/plain": [
       "Text(0, 0.5, 'True Positive Rate (tpr)')"
      ]
     },
     "execution_count": 77,
     "metadata": {},
     "output_type": "execute_result"
    },
    {
     "data": {
      "image/png": "[encoded data removed]",
      "text/plain": [
       "<Figure size 432x288 with 1 Axes>"
      ]
     },
     "metadata": {
      "needs_background": "light"
     },
     "output_type": "display_data"
    }
   ],
   "source": [
    "fpr, tpr, thresholds = roc_curve(test_target, y_pred_dec1)\n",
    "plt.plot(fpr, tpr)\n",
    "\n",
    "print(fpr)\n",
    "print(tpr)\n",
    "\n",
    "plt.title('ROC curve')\n",
    "plt.xlabel('False Positive Rate (fpr)')\n",
    "plt.ylabel('True Positive Rate (tpr)')"
   ]
  },
  {
   "cell_type": "code",
   "execution_count": 78,
   "metadata": {},
   "outputs": [
    {
     "data": {
      "text/plain": [
       "0.8333333333333333"
      ]
     },
     "execution_count": 78,
     "metadata": {},
     "output_type": "execute_result"
    }
   ],
   "source": [
    "metrics.auc(fpr, tpr)"
   ]
  },
  {
   "cell_type": "code",
   "execution_count": 79,
   "metadata": {},
   "outputs": [],
   "source": [
    "# The ROC curve is constructed by plotting the true positive rate (tpr) against the false positive rate (fpr). Classifiers\n",
    "# that give curves closer to the top left corner (ours is closer to the bottom left..) indicate better performance. The auc\n",
    "# (area under curve) is a useful metric to summarize the performance of each classifier into a single measure. A score of .66\n",
    "# is pretty lackluster, and indicates a true positive rate of 66% before producing any false positives. Again, keep in mind the\n",
    "# small sample size. Subsequent runs with the same model may result in drastically different results because of said small sample\n",
    "# sizes."
   ]
  },
  {
   "cell_type": "markdown",
   "metadata": {},
   "source": [
    "6. A Precision/Recall curve"
   ]
  },
  {
   "cell_type": "code",
   "execution_count": 80,
   "metadata": {},
   "outputs": [
    {
     "name": "stdout",
     "output_type": "stream",
     "text": [
      "[0.6 1.  1. ]\n",
      "[1.         0.66666667 0.        ]\n"
     ]
    },
    {
     "data": {
      "text/plain": [
       "Text(0, 0.5, 'Precision')"
      ]
     },
     "execution_count": 80,
     "metadata": {},
     "output_type": "execute_result"
    },
    {
     "data": {
      "image/png": "[encoded data removed]",
      "text/plain": [
       "<Figure size 432x288 with 1 Axes>"
      ]
     },
     "metadata": {
      "needs_background": "light"
     },
     "output_type": "display_data"
    }
   ],
   "source": [
    "precision, recall, thresholds = precision_recall_curve(test_target, y_pred_dec1)\n",
    "plt.plot(recall, precision)\n",
    "\n",
    "print(precision)\n",
    "print(recall)\n",
    "\n",
    "plt.title('Precision and Recall Curve')\n",
    "plt.xlabel('Recall')\n",
    "plt.ylabel('Precision')"
   ]
  },
  {
   "cell_type": "code",
   "execution_count": 81,
   "metadata": {},
   "outputs": [],
   "source": [
    "# Precision-recall curves plot the positive predictive value (PPV) against the true positive rate (TPR). It is useful in cases\n",
    "# where there is an imbalance in the observations between two classes. It's hard to judge this example as the sample size is \n",
    "# so small."
   ]
  },
  {
   "cell_type": "markdown",
   "metadata": {},
   "source": [
    "Similarly as in previous step, train another Decision Tree Classifier - but in this case\n",
    "set the maximum depth of the tree to 1 (max_depth = 1). Use the same training and\n",
    "test set as you used for the Decision Tree in the previous step"
   ]
  },
  {
   "cell_type": "code",
   "execution_count": 82,
   "metadata": {},
   "outputs": [],
   "source": [
    "dtc2 = tree.DecisionTreeClassifier(random_state=999, max_depth=1)\n",
    "train_features2 = train[['Age', 'Spectacle_Prescription','Astigmatic','Tear_Production_Rate']]\n",
    "train_target2 = train[['Classes']]\n",
    "test_features2 = test[['Age', 'Spectacle_Prescription','Astigmatic','Tear_Production_Rate']]\n",
    "test_target2 = test[['Classes']]\n",
    "dtc2 = dtc2.fit(train_features2, train_target2)"
   ]
  },
  {
   "cell_type": "code",
   "execution_count": 83,
   "metadata": {},
   "outputs": [
    {
     "data": {
      "text/plain": [
       "array([1, 0, 1, 0, 1], dtype=int64)"
      ]
     },
     "execution_count": 83,
     "metadata": {},
     "output_type": "execute_result"
    }
   ],
   "source": [
    "y_pred2 = dtc2.predict(test_features2)\n",
    "y_pred2 = np.array(y_pred2)\n",
    "y_pred2"
   ]
  },
  {
   "cell_type": "markdown",
   "metadata": {},
   "source": [
    "1. The accuracy of your model on the test data"
   ]
  },
  {
   "cell_type": "code",
   "execution_count": 84,
   "metadata": {},
   "outputs": [
    {
     "data": {
      "text/plain": [
       "1.0"
      ]
     },
     "execution_count": 84,
     "metadata": {},
     "output_type": "execute_result"
    }
   ],
   "source": [
    "accuracy_score(test_target2, y_pred2)"
   ]
  },
  {
   "cell_type": "code",
   "execution_count": 85,
   "metadata": {},
   "outputs": [],
   "source": [
    "# The accuracy score is significantly higher when the depth is limited to 1. 1>.8. This indicates that the model predicts 100%\n",
    "# of the testing set correctly."
   ]
  },
  {
   "cell_type": "markdown",
   "metadata": {},
   "source": [
    "2. The precision and recall values\n"
   ]
  },
  {
   "cell_type": "code",
   "execution_count": 86,
   "metadata": {},
   "outputs": [
    {
     "data": {
      "text/plain": [
       "(1.0, 1.0, 1.0, None)"
      ]
     },
     "execution_count": 86,
     "metadata": {},
     "output_type": "execute_result"
    }
   ],
   "source": [
    "precision_recall_fscore_support(test_target2, y_pred2, average = 'binary')"
   ]
  },
  {
   "cell_type": "code",
   "execution_count": 87,
   "metadata": {},
   "outputs": [],
   "source": [
    "# The precision score is 1.0, meaning that the classifier returned no false positives. The recall score is 1.0, meaning that all \n",
    "# relevant pieces of information were retrieved by the model. This is significantly better than the first test case"
   ]
  },
  {
   "cell_type": "markdown",
   "metadata": {},
   "source": [
    "3. A classification report (scikit-learn has a function that can create this for you)\n"
   ]
  },
  {
   "cell_type": "code",
   "execution_count": 88,
   "metadata": {},
   "outputs": [
    {
     "name": "stdout",
     "output_type": "stream",
     "text": [
      "              precision    recall  f1-score   support\n",
      "\n",
      " 0 - no lens       1.00      1.00      1.00         2\n",
      "    1 - lens       1.00      1.00      1.00         3\n",
      "\n",
      "    accuracy                           1.00         5\n",
      "   macro avg       1.00      1.00      1.00         5\n",
      "weighted avg       1.00      1.00      1.00         5\n",
      "\n"
     ]
    }
   ],
   "source": [
    "target_names = ['0 - no lens', '1 - lens']\n",
    "print(classification_report(test_target2, y_pred2, target_names=target_names))"
   ]
  },
  {
   "cell_type": "markdown",
   "metadata": {},
   "source": [
    "4. The confusion matrix for this experiment\n"
   ]
  },
  {
   "cell_type": "code",
   "execution_count": 89,
   "metadata": {},
   "outputs": [
    {
     "data": {
      "text/plain": [
       "(2, 2, 0, 1)"
      ]
     },
     "execution_count": 89,
     "metadata": {},
     "output_type": "execute_result"
    }
   ],
   "source": [
    "cm = confusion_matrix(test_target, y_pred)\n",
    "# TP = true positive, TN = true negative, FP = false positive, FN = false negative\n",
    "TP = cm[1, 1]\n",
    "TN = cm[0, 0]\n",
    "FP = cm[0, 1]\n",
    "FN = cm[1, 0]\n",
    "TP,TN,FP,FN"
   ]
  },
  {
   "cell_type": "code",
   "execution_count": 90,
   "metadata": {},
   "outputs": [],
   "source": [
    "# As expected, better than the first"
   ]
  },
  {
   "cell_type": "markdown",
   "metadata": {},
   "source": [
    "5. An ROC curve\n"
   ]
  },
  {
   "cell_type": "code",
   "execution_count": 91,
   "metadata": {},
   "outputs": [
    {
     "data": {
      "text/plain": [
       "array([1., 0., 0., 0., 1.])"
      ]
     },
     "execution_count": 91,
     "metadata": {},
     "output_type": "execute_result"
    }
   ],
   "source": [
    "# generate y_pred in decimal form\n",
    "y_pred_dec2 = dtc.predict_proba(test_features)\n",
    "y_pred_dec2 = y_pred_dec2[:,1]\n",
    "y_pred_dec2"
   ]
  },
  {
   "cell_type": "code",
   "execution_count": 92,
   "metadata": {},
   "outputs": [
    {
     "name": "stdout",
     "output_type": "stream",
     "text": [
      "[0. 0. 1.]\n",
      "[0.         0.66666667 1.        ]\n"
     ]
    },
    {
     "data": {
      "text/plain": [
       "Text(0, 0.5, 'True Positive Rate (tpr)')"
      ]
     },
     "execution_count": 92,
     "metadata": {},
     "output_type": "execute_result"
    },
    {
     "data": {
      "image/png": "[encoded data removed]",
      "text/plain": [
       "<Figure size 432x288 with 1 Axes>"
      ]
     },
     "metadata": {
      "needs_background": "light"
     },
     "output_type": "display_data"
    }
   ],
   "source": [
    "fpr2, tpr2, thresholds2 = roc_curve(test_target2, y_pred_dec2)\n",
    "plt.plot(fpr2, tpr2)\n",
    "\n",
    "print(fpr2)\n",
    "print(tpr2)\n",
    "\n",
    "plt.title('ROC curve of Max Depth 1')\n",
    "plt.xlabel('False Positive Rate (fpr)')\n",
    "plt.ylabel('True Positive Rate (tpr)')"
   ]
  },
  {
   "cell_type": "code",
   "execution_count": 93,
   "metadata": {},
   "outputs": [
    {
     "data": {
      "text/plain": [
       "0.8333333333333333"
      ]
     },
     "execution_count": 93,
     "metadata": {},
     "output_type": "execute_result"
    }
   ],
   "source": [
    "metrics.auc(fpr2, tpr2)"
   ]
  },
  {
   "cell_type": "code",
   "execution_count": null,
   "metadata": {},
   "outputs": [],
   "source": [
    "# Essentially the same as the previous testing set. It can look good or bad depending on how the testing set is running considering\n",
    "# the small sample size."
   ]
  },
  {
   "cell_type": "markdown",
   "metadata": {},
   "source": [
    "6. A Precision/Recall curve"
   ]
  },
  {
   "cell_type": "code",
   "execution_count": 94,
   "metadata": {},
   "outputs": [
    {
     "name": "stdout",
     "output_type": "stream",
     "text": [
      "[0.6 1.  1. ]\n",
      "[1.         0.66666667 0.        ]\n"
     ]
    },
    {
     "data": {
      "text/plain": [
       "Text(0, 0.5, 'Precision')"
      ]
     },
     "execution_count": 94,
     "metadata": {},
     "output_type": "execute_result"
    },
    {
     "data": {
      "image/png": "[encoded data removed]",
      "text/plain": [
       "<Figure size 432x288 with 1 Axes>"
      ]
     },
     "metadata": {
      "needs_background": "light"
     },
     "output_type": "display_data"
    }
   ],
   "source": [
    "precision2, recall2, thresholds2 = precision_recall_curve(test_target2, y_pred_dec2)\n",
    "plt.plot(recall2, precision2)\n",
    "\n",
    "print(precision2)\n",
    "print(recall2)\n",
    "\n",
    "plt.title('Precision and Recall Curve of Max Depth 1')\n",
    "plt.xlabel('Recall')\n",
    "plt.ylabel('Precision')"
   ]
  },
  {
   "cell_type": "code",
   "execution_count": null,
   "metadata": {},
   "outputs": [],
   "source": [
    "# Essentially the same as the previous testing set. It can look good or bad depending on how the testing set is running considering\n",
    "# the small sample size."
   ]
  }
 ],
 "metadata": {
  "kernelspec": {
   "display_name": "Python 3",
   "language": "python",
   "name": "python3"
  },
  "language_info": {
   "codemirror_mode": {
    "name": "ipython",
    "version": 3
   },
   "file_extension": ".py",
   "mimetype": "text/x-python",
   "name": "python",
   "nbconvert_exporter": "python",
   "pygments_lexer": "ipython3",
   "version": "3.7.3"
  }
 },
 "nbformat": 4,
 "nbformat_minor": 2
}
